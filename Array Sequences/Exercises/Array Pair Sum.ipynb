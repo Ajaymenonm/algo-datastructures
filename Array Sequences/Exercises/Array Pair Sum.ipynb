{
 "cells": [
  {
   "cell_type": "markdown",
   "metadata": {},
   "source": [
    "## Array Pair Sum"
   ]
  },
  {
   "cell_type": "markdown",
   "metadata": {},
   "source": [
    "Given an integer array, output all the unique pairs that sum up to a specific value k.\n",
    "\n",
    "So the input:\n",
    "\n",
    "pair_sum([1,3,2,2],4)\n",
    "\n",
    "would return 2 pairs:\n",
    "\n",
    " (1,3)\n",
    " (2,2)"
   ]
  },
  {
   "cell_type": "code",
   "execution_count": 18,
   "metadata": {},
   "outputs": [],
   "source": [
    "def arrayPair(arr, k):\n",
    "    \n",
    "    if len(arr) < 2:\n",
    "        return\n",
    "    \n",
    "    seen = set()\n",
    "    output = set()\n",
    "    \n",
    "    for num in arr:\n",
    "        \n",
    "        target = k - num\n",
    "        print(\"target \", target)\n",
    "        print(\"seen outside\", seen)\n",
    "        print(\"output outside\", output)\n",
    "        \n",
    "        if target not in seen:\n",
    "            seen.add(num)\n",
    "        else:\n",
    "            output.add( (min(target, num), max(target, num)))\n",
    "            \n",
    "    return len(output)\n",
    "    "
   ]
  },
  {
   "cell_type": "code",
   "execution_count": 16,
   "metadata": {},
   "outputs": [
    {
     "name": "stdout",
     "output_type": "stream",
     "text": [
      "target  1\n",
      "seen outside set()\n",
      "output outside set()\n",
      "target  -1\n",
      "seen outside {3}\n",
      "output outside set()\n",
      "target  3\n",
      "seen outside {3, 5}\n",
      "output outside set()\n",
      "{(1, 3)}\n",
      "target  2\n",
      "seen outside {3, 5}\n",
      "output outside {(1, 3)}\n",
      "target  1\n",
      "seen outside {2, 3, 5}\n",
      "output outside {(1, 3)}\n"
     ]
    }
   ],
   "source": [
    "arrayPair([3,5,1,2,3], 4)"
   ]
  },
  {
   "cell_type": "code",
   "execution_count": 21,
   "metadata": {},
   "outputs": [
    {
     "name": "stdout",
     "output_type": "stream",
     "text": [
      "target  9\n",
      "seen outside set()\n",
      "output outside set()\n",
      "target  1\n",
      "seen outside {1}\n",
      "output outside set()\n",
      "target  8\n",
      "seen outside {1}\n",
      "output outside {(1, 9)}\n",
      "target  2\n",
      "seen outside {1, 2}\n",
      "output outside {(1, 9)}\n",
      "target  7\n",
      "seen outside {1, 2}\n",
      "output outside {(2, 8), (1, 9)}\n",
      "target  3\n",
      "seen outside {1, 2, 3}\n",
      "output outside {(2, 8), (1, 9)}\n",
      "target  6\n",
      "seen outside {1, 2, 3}\n",
      "output outside {(2, 8), (1, 9), (3, 7)}\n",
      "target  4\n",
      "seen outside {1, 2, 3, 4}\n",
      "output outside {(2, 8), (1, 9), (3, 7)}\n",
      "target  5\n",
      "seen outside {1, 2, 3, 4}\n",
      "output outside {(2, 8), (4, 6), (1, 9), (3, 7)}\n",
      "target  5\n",
      "seen outside {1, 2, 3, 4, 5}\n",
      "output outside {(2, 8), (4, 6), (1, 9), (3, 7)}\n",
      "target  -3\n",
      "seen outside {1, 2, 3, 4, 5}\n",
      "output outside {(4, 6), (5, 5), (2, 8), (1, 9), (3, 7)}\n",
      "target  -4\n",
      "seen outside {1, 2, 3, 4, 5, 13}\n",
      "output outside {(4, 6), (5, 5), (2, 8), (1, 9), (3, 7)}\n",
      "target  -1\n",
      "seen outside {1, 2, 3, 4, 5, 13, 14}\n",
      "output outside {(4, 6), (5, 5), (2, 8), (1, 9), (3, 7)}\n",
      "target  -3\n",
      "seen outside {1, 2, 3, 4, 5, 11, 13, 14}\n",
      "output outside {(4, 6), (5, 5), (2, 8), (1, 9), (3, 7)}\n",
      "target  11\n",
      "seen outside {1, 2, 3, 4, 5, 11, 13, 14}\n",
      "output outside {(4, 6), (5, 5), (2, 8), (1, 9), (3, 7)}\n",
      "target  2\n",
      "seen outside set()\n",
      "output outside set()\n",
      "target  1\n",
      "seen outside {1}\n",
      "output outside set()\n",
      "target  0\n",
      "seen outside {1}\n",
      "output outside {(1, 2)}\n",
      "target  2\n",
      "seen outside {1, 3}\n",
      "output outside {(1, 2)}\n",
      "target  3\n",
      "seen outside set()\n",
      "output outside set()\n",
      "target  1\n",
      "seen outside {1}\n",
      "output outside set()\n",
      "target  2\n",
      "seen outside {1}\n",
      "output outside {(1, 3)}\n",
      "target  2\n",
      "seen outside {1, 2}\n",
      "output outside {(1, 3)}\n",
      "ALL TEST CASES PASSED\n"
     ]
    }
   ],
   "source": [
    "from nose.tools import assert_equal\n",
    "\n",
    "class TestPair(object):\n",
    "    \n",
    "    def test(self,sol):\n",
    "        assert_equal(sol([1,9,2,8,3,7,4,6,5,5,13,14,11,13,-1],10),6)\n",
    "        assert_equal(sol([1,2,3,1],3),1)\n",
    "        assert_equal(sol([1,3,2,2],4),2)\n",
    "        print ('ALL TEST CASES PASSED')\n",
    "        \n",
    "#Run tests\n",
    "t = TestPair()\n",
    "t.test(arrayPair)"
   ]
  },
  {
   "cell_type": "code",
   "execution_count": null,
   "metadata": {},
   "outputs": [],
   "source": []
  }
 ],
 "metadata": {
  "kernelspec": {
   "display_name": "Python 3",
   "language": "python",
   "name": "python3"
  },
  "language_info": {
   "codemirror_mode": {
    "name": "ipython",
    "version": 3
   },
   "file_extension": ".py",
   "mimetype": "text/x-python",
   "name": "python",
   "nbconvert_exporter": "python",
   "pygments_lexer": "ipython3",
   "version": "3.7.2"
  }
 },
 "nbformat": 4,
 "nbformat_minor": 2
}
