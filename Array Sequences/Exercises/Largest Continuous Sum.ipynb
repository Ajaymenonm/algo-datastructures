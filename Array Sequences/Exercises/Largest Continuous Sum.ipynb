{
 "cells": [
  {
   "cell_type": "markdown",
   "metadata": {},
   "source": [
    "## Largest Continuous Sum"
   ]
  },
  {
   "cell_type": "code",
   "execution_count": 45,
   "metadata": {},
   "outputs": [],
   "source": [
    "def largestContinuousSum(arr):\n",
    "    \n",
    "    #edge case test\n",
    "    if len(arr) == 0:\n",
    "        return\n",
    "            \n",
    "    \n",
    "    max_sum = current_sum = arr[0]\n",
    "    \n",
    "    for x in arr[1:]:\n",
    "        \n",
    "        current_sum = max(current_sum + x, x)\n",
    "        print('current_sum ', current_sum)\n",
    "        \n",
    "        max_sum = max(current_sum, max_sum)\n",
    "        print('max_sum ', max_sum)\n",
    "    return max_sum\n",
    "        "
   ]
  },
  {
   "cell_type": "code",
   "execution_count": 46,
   "metadata": {},
   "outputs": [
    {
     "name": "stdout",
     "output_type": "stream",
     "text": [
      "current_sum  3\n",
      "max_sum  3\n",
      "current_sum  2\n",
      "max_sum  3\n",
      "current_sum  5\n",
      "max_sum  5\n",
      "current_sum  9\n",
      "max_sum  9\n",
      "current_sum  19\n",
      "max_sum  19\n",
      "current_sum  29\n",
      "max_sum  29\n",
      "current_sum  19\n",
      "max_sum  29\n",
      "current_sum  18\n",
      "max_sum  29\n"
     ]
    },
    {
     "data": {
      "text/plain": [
       "29"
      ]
     },
     "execution_count": 46,
     "metadata": {},
     "output_type": "execute_result"
    }
   ],
   "source": [
    "largestContinuousSum([1,2,-1,3,4,10,10,-10,-1])"
   ]
  },
  {
   "cell_type": "code",
   "execution_count": 47,
   "metadata": {},
   "outputs": [
    {
     "name": "stdout",
     "output_type": "stream",
     "text": [
      "current_sum  3\n",
      "max_sum  3\n",
      "current_sum  2\n",
      "max_sum  3\n",
      "current_sum  5\n",
      "max_sum  5\n",
      "current_sum  9\n",
      "max_sum  9\n",
      "current_sum  8\n",
      "max_sum  9\n",
      "current_sum  3\n",
      "max_sum  3\n",
      "current_sum  2\n",
      "max_sum  3\n",
      "current_sum  5\n",
      "max_sum  5\n",
      "current_sum  9\n",
      "max_sum  9\n",
      "current_sum  19\n",
      "max_sum  19\n",
      "current_sum  29\n",
      "max_sum  29\n",
      "current_sum  19\n",
      "max_sum  29\n",
      "current_sum  18\n",
      "max_sum  29\n",
      "current_sum  1\n",
      "max_sum  1\n",
      "ALL TEST CASES PASSED\n"
     ]
    }
   ],
   "source": [
    "from nose.tools import assert_equal\n",
    "\n",
    "class LargeContTest(object):\n",
    "    def test(self,sol):\n",
    "        assert_equal(sol([1,2,-1,3,4,-1]),9)\n",
    "        assert_equal(sol([1,2,-1,3,4,10,10,-10,-1]),29)\n",
    "        assert_equal(sol([-1,1]),1)\n",
    "        print ('ALL TEST CASES PASSED')\n",
    "        \n",
    "#Run Test\n",
    "t = LargeContTest()\n",
    "t.test(largestContinuousSum)"
   ]
  },
  {
   "cell_type": "code",
   "execution_count": null,
   "metadata": {},
   "outputs": [],
   "source": []
  }
 ],
 "metadata": {
  "kernelspec": {
   "display_name": "Python 3",
   "language": "python",
   "name": "python3"
  },
  "language_info": {
   "codemirror_mode": {
    "name": "ipython",
    "version": 3
   },
   "file_extension": ".py",
   "mimetype": "text/x-python",
   "name": "python",
   "nbconvert_exporter": "python",
   "pygments_lexer": "ipython3",
   "version": "3.7.2"
  }
 },
 "nbformat": 4,
 "nbformat_minor": 2
}
