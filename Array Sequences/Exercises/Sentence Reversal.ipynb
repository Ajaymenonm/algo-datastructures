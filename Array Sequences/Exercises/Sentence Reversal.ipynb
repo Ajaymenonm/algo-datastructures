{
 "cells": [
  {
   "cell_type": "markdown",
   "metadata": {},
   "source": [
    "## Reverse a String\n",
    "\n",
    "Given a string of words, reverse all the words. For example:\n",
    "\n",
    "Given:\n",
    "\n",
    "'This is the best'\n",
    "\n",
    "Return:\n",
    "\n",
    "'best the is This'\n",
    "\n",
    "As part of this exercise you should remove all leading and trailing whitespace. So that inputs such as:\n",
    "\n",
    "'  space here'  and 'space here      '\n",
    "\n",
    "both become:\n",
    "\n",
    "'here space'"
   ]
  },
  {
   "cell_type": "code",
   "execution_count": 101,
   "metadata": {},
   "outputs": [],
   "source": [
    "def sentence_reversal(s):\n",
    "    \n",
    "    length = len(s)\n",
    "    words = []\n",
    "   \n",
    "    i = 0\n",
    "    \n",
    "    while i < length:\n",
    "        print(i)\n",
    "        \n",
    "        if s[i] != \" \":\n",
    "            word_start = i\n",
    "            \n",
    "            while i < length and s[i] != \" \":\n",
    "                i += 1\n",
    "            words.append(s[word_start:i])   # append range\n",
    "         \n",
    "        i += 1\n",
    "    print(words)\n",
    "    print(\" \".join(reversed(words)))"
   ]
  },
  {
   "cell_type": "code",
   "execution_count": 102,
   "metadata": {
    "scrolled": true
   },
   "outputs": [
    {
     "name": "stdout",
     "output_type": "stream",
     "text": [
      "0\n",
      "3\n",
      "['HI', 'AJAU']\n",
      "AJAU HI\n"
     ]
    }
   ],
   "source": [
    "sentence_reversal('HI AJAU')"
   ]
  },
  {
   "cell_type": "markdown",
   "metadata": {},
   "source": [
    "## Reverse an array of numbers"
   ]
  },
  {
   "cell_type": "code",
   "execution_count": 114,
   "metadata": {},
   "outputs": [
    {
     "name": "stdout",
     "output_type": "stream",
     "text": [
      "[5, 4, 3, 2, 1]\n"
     ]
    }
   ],
   "source": [
    "a = [1,2,3,4,5]\n",
    "l = len(a)\n",
    "n = []\n",
    "\n",
    "for x in range(l):\n",
    "    n.append(a[l-1 - x])\n",
    "print(n)"
   ]
  },
  {
   "cell_type": "code",
   "execution_count": 113,
   "metadata": {},
   "outputs": [
    {
     "name": "stdout",
     "output_type": "stream",
     "text": [
      "[8, 7, 6, 5, 4, 3, 2, 1]\n"
     ]
    }
   ],
   "source": [
    "lst=[1,2,3,4,5,6,7,8]\n",
    "cnt=len(lst)\n",
    "revlst=[]\n",
    "for i in range(cnt):\n",
    "\t  revlst.append(lst[cnt-1-i])\n",
    "print (revlst)"
   ]
  },
  {
   "cell_type": "code",
   "execution_count": null,
   "metadata": {},
   "outputs": [],
   "source": []
  }
 ],
 "metadata": {
  "kernelspec": {
   "display_name": "Python 3",
   "language": "python",
   "name": "python3"
  },
  "language_info": {
   "codemirror_mode": {
    "name": "ipython",
    "version": 3
   },
   "file_extension": ".py",
   "mimetype": "text/x-python",
   "name": "python",
   "nbconvert_exporter": "python",
   "pygments_lexer": "ipython3",
   "version": "3.7.2"
  }
 },
 "nbformat": 4,
 "nbformat_minor": 2
}
