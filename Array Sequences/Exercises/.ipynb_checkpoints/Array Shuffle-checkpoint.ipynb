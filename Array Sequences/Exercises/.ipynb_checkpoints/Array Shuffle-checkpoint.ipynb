{
 "cells": [
  {
   "cell_type": "markdown",
   "metadata": {},
   "source": [
    "## Shuffle Elements in the array"
   ]
  },
  {
   "cell_type": "markdown",
   "metadata": {},
   "source": [
    "###  Fisher–Yates shuffle Algorithm"
   ]
  },
  {
   "cell_type": "code",
   "execution_count": 5,
   "metadata": {},
   "outputs": [],
   "source": [
    "import random\n",
    "\n",
    "def fyShuffle(arr):\n",
    "    \n",
    "    array_length = len(arr)\n",
    "    \n",
    "    for x in range(array_length - 1, 0, -1):\n",
    "        print('x', x)\n",
    "        \n",
    "        y = random.randint(0, x + 1)\n",
    "        print('y', y)\n",
    "        \n",
    "        arr[x], arr[y] = arr[y], arr[x]\n",
    "    \n",
    "    return arr\n",
    "\n",
    "        "
   ]
  },
  {
   "cell_type": "code",
   "execution_count": 10,
   "metadata": {},
   "outputs": [
    {
     "name": "stdout",
     "output_type": "stream",
     "text": [
      "x 4\n",
      "y 3\n",
      "x 3\n",
      "y 0\n",
      "x 2\n",
      "y 2\n",
      "x 1\n",
      "y 0\n"
     ]
    },
    {
     "data": {
      "text/plain": [
       "[2, 5, 3, 1, 4]"
      ]
     },
     "execution_count": 10,
     "metadata": {},
     "output_type": "execute_result"
    }
   ],
   "source": [
    "fyShuffle([1,2,3,4,5])"
   ]
  },
  {
   "cell_type": "code",
   "execution_count": null,
   "metadata": {},
   "outputs": [],
   "source": []
  }
 ],
 "metadata": {
  "kernelspec": {
   "display_name": "Python 3",
   "language": "python",
   "name": "python3"
  },
  "language_info": {
   "codemirror_mode": {
    "name": "ipython",
    "version": 3
   },
   "file_extension": ".py",
   "mimetype": "text/x-python",
   "name": "python",
   "nbconvert_exporter": "python",
   "pygments_lexer": "ipython3",
   "version": "3.7.2"
  }
 },
 "nbformat": 4,
 "nbformat_minor": 2
}
