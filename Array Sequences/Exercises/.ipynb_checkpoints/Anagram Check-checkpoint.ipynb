{
 "cells": [
  {
   "cell_type": "markdown",
   "metadata": {},
   "source": [
    "## Anagram Check"
   ]
  },
  {
   "cell_type": "markdown",
   "metadata": {},
   "source": [
    "Given two strings, check to see if they are anagrams. An anagram is when the two strings can be written using the exact same letters (so you can just rearrange the letters to get a different phrase or word).\n",
    "\n",
    "For example:\n",
    "\n",
    "\"public relations\" is an anagram of \"crap built on lies.\"\n",
    "\n",
    "\"clint eastwood\" is an anagram of \"old west action\"\n",
    "\n",
    "Note: Ignore spaces and capitalization. So \"d go\" is an anagram of \"God\" and \"dog\" and \"o d g\"."
   ]
  },
  {
   "cell_type": "code",
   "execution_count": 24,
   "metadata": {},
   "outputs": [],
   "source": [
    "def anagram (s1, s2):\n",
    "    s1 = s1.replace(' ', '').lower()\n",
    "    s2 = s2.replace(' ', '').lower()\n",
    "    \n",
    "    print(s1, s2)\n",
    "    \n",
    "    count = {}\n",
    "    \n",
    "    for x in s1:\n",
    "        if x in count:\n",
    "            count[x] +=1\n",
    "        else:\n",
    "            count[x] = 1\n",
    "    print(count)\n",
    "    \n",
    "    for x in s2:\n",
    "        if x in count:\n",
    "            count[x] -=1\n",
    "            print(count)\n",
    "    print(count)\n",
    "    \n",
    "    for x in count:\n",
    "        if count[x] != 0:\n",
    "            return False\n",
    "    return True"
   ]
  },
  {
   "cell_type": "code",
   "execution_count": 25,
   "metadata": {},
   "outputs": [
    {
     "name": "stdout",
     "output_type": "stream",
     "text": [
      "dog god\n",
      "{'d': 1, 'o': 1, 'g': 1}\n",
      "{'d': 1, 'o': 1, 'g': 0}\n",
      "{'d': 1, 'o': 0, 'g': 0}\n",
      "{'d': 0, 'o': 0, 'g': 0}\n",
      "{'d': 0, 'o': 0, 'g': 0}\n"
     ]
    },
    {
     "data": {
      "text/plain": [
       "True"
      ]
     },
     "execution_count": 25,
     "metadata": {},
     "output_type": "execute_result"
    }
   ],
   "source": [
    "anagram('d o g', 'g od')"
   ]
  },
  {
   "cell_type": "markdown",
   "metadata": {},
   "source": [
    "### Test Cases"
   ]
  },
  {
   "cell_type": "code",
   "execution_count": 27,
   "metadata": {
    "scrolled": false
   },
   "outputs": [
    {
     "name": "stdout",
     "output_type": "stream",
     "text": [
      "gogogo gggooo\n",
      "{'g': 3, 'o': 3}\n",
      "{'g': 2, 'o': 3}\n",
      "{'g': 1, 'o': 3}\n",
      "{'g': 0, 'o': 3}\n",
      "{'g': 0, 'o': 2}\n",
      "{'g': 0, 'o': 1}\n",
      "{'g': 0, 'o': 0}\n",
      "{'g': 0, 'o': 0}\n",
      "abc cba\n",
      "{'a': 1, 'b': 1, 'c': 1}\n",
      "{'a': 1, 'b': 1, 'c': 0}\n",
      "{'a': 1, 'b': 0, 'c': 0}\n",
      "{'a': 0, 'b': 0, 'c': 0}\n",
      "{'a': 0, 'b': 0, 'c': 0}\n",
      "himan himan\n",
      "{'h': 1, 'i': 1, 'm': 1, 'a': 1, 'n': 1}\n",
      "{'h': 0, 'i': 1, 'm': 1, 'a': 1, 'n': 1}\n",
      "{'h': 0, 'i': 0, 'm': 1, 'a': 1, 'n': 1}\n",
      "{'h': 0, 'i': 0, 'm': 0, 'a': 1, 'n': 1}\n",
      "{'h': 0, 'i': 0, 'm': 0, 'a': 0, 'n': 1}\n",
      "{'h': 0, 'i': 0, 'm': 0, 'a': 0, 'n': 0}\n",
      "{'h': 0, 'i': 0, 'm': 0, 'a': 0, 'n': 0}\n",
      "aabbcc aabbc\n",
      "{'a': 2, 'b': 2, 'c': 2}\n",
      "{'a': 1, 'b': 2, 'c': 2}\n",
      "{'a': 0, 'b': 2, 'c': 2}\n",
      "{'a': 0, 'b': 1, 'c': 2}\n",
      "{'a': 0, 'b': 0, 'c': 2}\n",
      "{'a': 0, 'b': 0, 'c': 1}\n",
      "{'a': 0, 'b': 0, 'c': 1}\n",
      "123 12\n",
      "{'1': 1, '2': 1, '3': 1}\n",
      "{'1': 0, '2': 1, '3': 1}\n",
      "{'1': 0, '2': 0, '3': 1}\n",
      "{'1': 0, '2': 0, '3': 1}\n",
      "ALL TEST CASES PASSED\n"
     ]
    }
   ],
   "source": [
    "from nose.tools import assert_equal\n",
    "\n",
    "class AnagramTest(object):\n",
    "    \n",
    "    def test(self,sol):\n",
    "        assert_equal(sol('go go go','gggooo'),True)\n",
    "        assert_equal(sol('abc','cba'),True)\n",
    "        assert_equal(sol('hi man','hi     man'),True)\n",
    "        assert_equal(sol('aabbcc','aabbc'),False)\n",
    "        assert_equal(sol('123','1 2'),False)\n",
    "        print(\"ALL TEST CASES PASSED\")\n",
    "\n",
    "\n",
    "t = AnagramTest()\n",
    "t.test(anagram)"
   ]
  },
  {
   "cell_type": "code",
   "execution_count": null,
   "metadata": {},
   "outputs": [],
   "source": []
  }
 ],
 "metadata": {
  "kernelspec": {
   "display_name": "Python 3",
   "language": "python",
   "name": "python3"
  },
  "language_info": {
   "codemirror_mode": {
    "name": "ipython",
    "version": 3
   },
   "file_extension": ".py",
   "mimetype": "text/x-python",
   "name": "python",
   "nbconvert_exporter": "python",
   "pygments_lexer": "ipython3",
   "version": "3.7.2"
  }
 },
 "nbformat": 4,
 "nbformat_minor": 2
}
